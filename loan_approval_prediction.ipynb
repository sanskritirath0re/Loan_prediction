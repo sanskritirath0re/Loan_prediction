{
  "nbformat": 4,
  "nbformat_minor": 0,
  "metadata": {
    "colab": {
      "provenance": []
    },
    "kernelspec": {
      "name": "python3",
      "display_name": "Python 3"
    },
    "language_info": {
      "name": "python"
    }
  },
  "cells": [
    {
      "cell_type": "code",
      "source": [
        "pip install pandas numpy scikit-learn\n"
      ],
      "metadata": {
        "id": "wbYl9jkGQXU2",
        "colab": {
          "base_uri": "https://localhost:8080/"
        },
        "outputId": "192011a4-3705-4463-d17c-1b5b8ed5d774"
      },
      "execution_count": 1,
      "outputs": [
        {
          "output_type": "stream",
          "name": "stdout",
          "text": [
            "Requirement already satisfied: pandas in /usr/local/lib/python3.10/dist-packages (2.0.3)\n",
            "Requirement already satisfied: numpy in /usr/local/lib/python3.10/dist-packages (1.25.2)\n",
            "Requirement already satisfied: scikit-learn in /usr/local/lib/python3.10/dist-packages (1.2.2)\n",
            "Requirement already satisfied: python-dateutil>=2.8.2 in /usr/local/lib/python3.10/dist-packages (from pandas) (2.8.2)\n",
            "Requirement already satisfied: pytz>=2020.1 in /usr/local/lib/python3.10/dist-packages (from pandas) (2023.4)\n",
            "Requirement already satisfied: tzdata>=2022.1 in /usr/local/lib/python3.10/dist-packages (from pandas) (2024.1)\n",
            "Requirement already satisfied: scipy>=1.3.2 in /usr/local/lib/python3.10/dist-packages (from scikit-learn) (1.11.4)\n",
            "Requirement already satisfied: joblib>=1.1.1 in /usr/local/lib/python3.10/dist-packages (from scikit-learn) (1.4.2)\n",
            "Requirement already satisfied: threadpoolctl>=2.0.0 in /usr/local/lib/python3.10/dist-packages (from scikit-learn) (3.5.0)\n",
            "Requirement already satisfied: six>=1.5 in /usr/local/lib/python3.10/dist-packages (from python-dateutil>=2.8.2->pandas) (1.16.0)\n"
          ]
        }
      ]
    },
    {
      "cell_type": "code",
      "source": [
        "import zipfile\n",
        "import os\n",
        "\n",
        "# Path to the zip file\n",
        "zip_file_path = '/content/archive.zip'\n",
        "extraction_dir = '/content/extracted_files/'\n",
        "\n",
        "# Create extraction directory if it doesn't exist\n",
        "os.makedirs(extraction_dir, exist_ok=True)\n",
        "\n",
        "# Extract the zip file\n",
        "with zipfile.ZipFile(zip_file_path, 'r') as zip_ref:\n",
        "    zip_ref.extractall(extraction_dir)\n",
        "\n",
        "# List the extracted files\n",
        "extracted_files = os.listdir(extraction_dir)\n",
        "print(extracted_files)\n"
      ],
      "metadata": {
        "colab": {
          "base_uri": "https://localhost:8080/"
        },
        "id": "e53hzcPJwnzd",
        "outputId": "fc7a3ab2-a65b-4964-bbf4-8fcbce8c9769"
      },
      "execution_count": 4,
      "outputs": [
        {
          "output_type": "stream",
          "name": "stdout",
          "text": [
            "['Sample_Submission.csv', 'Training Dataset.csv', 'Test Dataset.csv']\n"
          ]
        }
      ]
    },
    {
      "cell_type": "code",
      "source": [
        "import pandas as pd\n",
        "\n",
        "# Path to the extracted CSV file\n",
        "training_data_path = os.path.join(extraction_dir, 'Training Dataset.csv')\n",
        "\n",
        "# Load the dataset\n",
        "training_data = pd.read_csv(training_data_path)\n",
        "\n",
        "# Display the first few rows\n",
        "print(training_data.head())\n",
        "\n"
      ],
      "metadata": {
        "colab": {
          "base_uri": "https://localhost:8080/"
        },
        "id": "aozPF-gDxb1b",
        "outputId": "e291e681-2ce8-43d4-97f7-f3deaf8c8acd"
      },
      "execution_count": 5,
      "outputs": [
        {
          "output_type": "stream",
          "name": "stdout",
          "text": [
            "    Loan_ID Gender Married Dependents     Education Self_Employed  \\\n",
            "0  LP001002   Male      No          0      Graduate            No   \n",
            "1  LP001003   Male     Yes          1      Graduate            No   \n",
            "2  LP001005   Male     Yes          0      Graduate           Yes   \n",
            "3  LP001006   Male     Yes          0  Not Graduate            No   \n",
            "4  LP001008   Male      No          0      Graduate            No   \n",
            "\n",
            "   ApplicantIncome  CoapplicantIncome  LoanAmount  Loan_Amount_Term  \\\n",
            "0             5849                0.0         NaN             360.0   \n",
            "1             4583             1508.0       128.0             360.0   \n",
            "2             3000                0.0        66.0             360.0   \n",
            "3             2583             2358.0       120.0             360.0   \n",
            "4             6000                0.0       141.0             360.0   \n",
            "\n",
            "   Credit_History Property_Area Loan_Status  \n",
            "0             1.0         Urban           Y  \n",
            "1             1.0         Rural           N  \n",
            "2             1.0         Urban           Y  \n",
            "3             1.0         Urban           Y  \n",
            "4             1.0         Urban           Y  \n"
          ]
        }
      ]
    },
    {
      "cell_type": "code",
      "source": [
        "from sklearn.preprocessing import OneHotEncoder, StandardScaler\n",
        "from sklearn.impute import SimpleImputer\n",
        "import numpy as np\n",
        "\n",
        "# Drop Loan_ID and Loan_Status as they are not relevant for clustering\n",
        "data = training_data.drop(['Loan_ID', 'Loan_Status'], axis=1)\n",
        "\n",
        "# Handle missing values\n",
        "imputer = SimpleImputer(strategy='median')\n",
        "data[['LoanAmount', 'Loan_Amount_Term', 'Credit_History']] = imputer.fit_transform(data[['LoanAmount', 'Loan_Amount_Term', 'Credit_History']])\n",
        "\n",
        "# Fill missing values in categorical columns with the most frequent value\n",
        "data.fillna(data.mode().iloc[0], inplace=True)\n",
        "\n",
        "# One-hot encode categorical variables\n",
        "categorical_columns = ['Gender', 'Married', 'Dependents', 'Education', 'Self_Employed', 'Property_Area']\n",
        "one_hot_encoder = OneHotEncoder(sparse=False, drop='first')\n",
        "categorical_data = one_hot_encoder.fit_transform(data[categorical_columns])\n",
        "\n",
        "# Normalize numerical features\n",
        "numerical_columns = ['ApplicantIncome', 'CoapplicantIncome', 'LoanAmount', 'Loan_Amount_Term', 'Credit_History']\n",
        "scaler = StandardScaler()\n",
        "numerical_data = scaler.fit_transform(data[numerical_columns])\n",
        "\n",
        "# Combine categorical and numerical data\n",
        "processed_data = pd.DataFrame(data=np.hstack((numerical_data, categorical_data)))\n",
        "\n",
        "# Display the first few rows of the processed data\n",
        "print(processed_data.head())\n"
      ],
      "metadata": {
        "colab": {
          "base_uri": "https://localhost:8080/"
        },
        "id": "sdObTJMuxiwV",
        "outputId": "a5c8b59b-cb62-4f81-de24-933e5b6a3e81"
      },
      "execution_count": 6,
      "outputs": [
        {
          "output_type": "stream",
          "name": "stdout",
          "text": [
            "         0         1         2         3         4    5    6    7    8    9   \\\n",
            "0  0.072991 -0.554487 -0.211241  0.273231  0.411733  1.0  0.0  0.0  0.0  0.0   \n",
            "1 -0.134412 -0.038732 -0.211241  0.273231  0.411733  1.0  1.0  1.0  0.0  0.0   \n",
            "2 -0.393747 -0.554487 -0.948996  0.273231  0.411733  1.0  1.0  0.0  0.0  0.0   \n",
            "3 -0.462062  0.251980 -0.306435  0.273231  0.411733  1.0  1.0  0.0  0.0  0.0   \n",
            "4  0.097728 -0.554487 -0.056551  0.273231  0.411733  1.0  0.0  0.0  0.0  0.0   \n",
            "\n",
            "    10   11   12   13  \n",
            "0  0.0  0.0  0.0  1.0  \n",
            "1  0.0  0.0  0.0  0.0  \n",
            "2  0.0  1.0  0.0  1.0  \n",
            "3  1.0  0.0  0.0  1.0  \n",
            "4  0.0  0.0  0.0  1.0  \n"
          ]
        },
        {
          "output_type": "stream",
          "name": "stderr",
          "text": [
            "/usr/local/lib/python3.10/dist-packages/sklearn/preprocessing/_encoders.py:868: FutureWarning: `sparse` was renamed to `sparse_output` in version 1.2 and will be removed in 1.4. `sparse_output` is ignored unless you leave `sparse` to its default value.\n",
            "  warnings.warn(\n"
          ]
        }
      ]
    },
    {
      "cell_type": "code",
      "source": [
        "from sklearn.cluster import KMeans\n",
        "import matplotlib.pyplot as plt\n",
        "\n",
        "# Determine the optimal number of clusters using the elbow method\n",
        "wcss = []\n",
        "for i in range(1, 11):\n",
        "    kmeans = KMeans(n_clusters=i, init='k-means++', max_iter=300, n_init=10, random_state=42)\n",
        "    kmeans.fit(processed_data)\n",
        "    wcss.append(kmeans.inertia_)\n",
        "\n",
        "# Plot the elbow method results\n",
        "plt.plot(range(1, 11), wcss)\n",
        "plt.title('Elbow Method')\n",
        "plt.xlabel('Number of clusters')\n",
        "plt.ylabel('WCSS')\n",
        "plt.show()\n",
        "\n",
        "# Fit KMeans with the optimal number of clusters\n",
        "optimal_clusters = 3  # You can choose the optimal number based on the elbow method\n",
        "kmeans = KMeans(n_clusters=optimal_clusters, init='k-means++', max_iter=300, n_init=10, random_state=42)\n",
        "clusters = kmeans.fit_predict(processed_data)\n",
        "\n",
        "# Add the cluster labels to the original data\n",
        "training_data['Cluster'] = clusters\n",
        "print(training_data.head())\n"
      ],
      "metadata": {
        "colab": {
          "base_uri": "https://localhost:8080/",
          "height": 819
        },
        "id": "eTAvulrDxlpz",
        "outputId": "d774a6db-ec3d-42e9-9e11-88f59da96188"
      },
      "execution_count": 7,
      "outputs": [
        {
          "output_type": "display_data",
          "data": {
            "text/plain": [
              "<Figure size 640x480 with 1 Axes>"
            ],
            "image/png": "[encoded data removed]"
          },
          "metadata": {}
        },
        {
          "output_type": "stream",
          "name": "stdout",
          "text": [
            "    Loan_ID Gender Married Dependents     Education Self_Employed  \\\n",
            "0  LP001002   Male      No          0      Graduate            No   \n",
            "1  LP001003   Male     Yes          1      Graduate            No   \n",
            "2  LP001005   Male     Yes          0      Graduate           Yes   \n",
            "3  LP001006   Male     Yes          0  Not Graduate            No   \n",
            "4  LP001008   Male      No          0      Graduate            No   \n",
            "\n",
            "   ApplicantIncome  CoapplicantIncome  LoanAmount  Loan_Amount_Term  \\\n",
            "0             5849                0.0         NaN             360.0   \n",
            "1             4583             1508.0       128.0             360.0   \n",
            "2             3000                0.0        66.0             360.0   \n",
            "3             2583             2358.0       120.0             360.0   \n",
            "4             6000                0.0       141.0             360.0   \n",
            "\n",
            "   Credit_History Property_Area Loan_Status  Cluster  \n",
            "0             1.0         Urban           Y        0  \n",
            "1             1.0         Rural           N        0  \n",
            "2             1.0         Urban           Y        0  \n",
            "3             1.0         Urban           Y        0  \n",
            "4             1.0         Urban           Y        0  \n"
          ]
        }
      ]
    },
    {
      "cell_type": "code",
      "source": [],
      "metadata": {
        "id": "UMlW7w_axoua"
      },
      "execution_count": null,
      "outputs": []
    }
  ]
}